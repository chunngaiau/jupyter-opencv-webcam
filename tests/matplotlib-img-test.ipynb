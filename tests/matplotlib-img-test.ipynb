{
 "cells": [
  {
   "cell_type": "markdown",
   "metadata": {},
   "source": [
    "# Jupyter Notebook Matplotlib Image Animation Test"
   ]
  },
  {
   "cell_type": "code",
   "execution_count": 11,
   "metadata": {},
   "outputs": [
    {
     "data": {
      "application/vnd.jupyter.widget-view+json": {
       "model_id": "40db0e7e9b5d4dd9b90758e25bee573f",
       "version_major": 2,
       "version_minor": 0
      },
      "text/plain": [
       "Figure(axes=[Axis(scale=LinearScale()), Axis(orientation='vertical', scale=LinearScale())], fig_margin={'top':…"
      ]
     },
     "metadata": {},
     "output_type": "display_data"
    }
   ],
   "source": [
    "from IPython.display import display\n",
    "import ipywidgets as widgets\n",
    "from io import BytesIO\n",
    "import PIL.Image\n",
    "import numpy as np\n",
    "import threading\n",
    "import time\n",
    "\n",
    "import bqplot as bq\n",
    "import bqplot.pyplot as bq_plt\n",
    "\n",
    "phase = time.time() % (2 * np.pi)\n",
    "x = np.linspace(0, 10, 100)\n",
    "y = np.sin(x + phase)\n",
    "\n",
    "xsc = bq.LinearScale()\n",
    "ysc = bq.LinearScale()\n",
    "\n",
    "l = bq.Lines(x=x, y=y, scales={'x': xsc, 'y': ysc})\n",
    "\n",
    "xax = bq.Axis(scale=xsc)\n",
    "yax = bq.Axis(scale=ysc, orientation='vertical')\n",
    "\n",
    "f = bq.Figure(marks=[l], axes=[xax, yax])\n",
    "\n",
    "display(f)"
   ]
  },
  {
   "cell_type": "code",
   "execution_count": null,
   "metadata": {},
   "outputs": [],
   "source": [
    "play = True\n",
    "\n",
    "def thread_bq():\n",
    "    global play, y\n",
    "    while play:\n",
    "        phase = time.time() % (2 * np.pi)\n",
    "        y = np.roll(y, -1)\n",
    "        y[-1] = 0\n",
    "\n",
    "        l.y = y\n",
    "        time.sleep(0.01)\n",
    "\n",
    "bq_thread = threading.Thread(target=thread_bq)\n",
    "bq_thread.start()"
   ]
  },
  {
   "cell_type": "code",
   "execution_count": 239,
   "metadata": {},
   "outputs": [],
   "source": [
    "l.y = np.roll(l.y, -1)\n",
    "l.y[-1] = 0"
   ]
  },
  {
   "cell_type": "code",
   "execution_count": null,
   "metadata": {},
   "outputs": [],
   "source": [
    "play = False"
   ]
  }
 ],
 "metadata": {
  "kernelspec": {
   "display_name": "Python 3",
   "language": "python",
   "name": "python3"
  },
  "language_info": {
   "codemirror_mode": {
    "name": "ipython",
    "version": 3
   },
   "file_extension": ".py",
   "mimetype": "text/x-python",
   "name": "python",
   "nbconvert_exporter": "python",
   "pygments_lexer": "ipython3",
   "version": "3.8.5"
  },
  "widgets": {
   "application/vnd.jupyter.widget-state+json": {
    "state": {
     "0043e2b768ce4ab7ac0d2ab248b21ff6": {
      "buffers": [
       {
        "data": "AAAAAAAAAAAxb2dIzNu5PzFvZ0jM28k/ZZNNNtlk0z8xb2dIzNvZP3+lQK1fKeA/ZZNNNtlk4z9LgVq/UqDmPzFvZ0jM2+k/F1100UUX7T9/pUCtXynwP3Icx3Ecx/E/ZZNNNtlk8z9YCtT6lQL1P0uBWr9SoPY/Pvjggw8++D8xb2dIzNv5PyTm7QyJefs/F1100UUX/T8K1PqVArX+P3+lQK1fKQBA+OCDDz74AEByHMdxHMcBQOtXCtT6lQJAZZNNNtlkA0DezpCYtzMEQFgK1PqVAgVA0UUXXXTRBUBLgVq/UqAGQMS8nSExbwdAPvjggw8+CEC3MyTm7QwJQDFvZ0jM2wlAq6qqqqqqCkAk5u0MiXkLQJ4hMW9nSAxAF1100UUXDUCRmLczJOYNQArU+pUCtQ5AhA8++OCDD0B/pUCtXykQQDtDYt7OkBBA+OCDDz74EEC1fqVArV8RQHIcx3EcxxFALrrooosuEkDrVwrU+pUSQKj1KwVq/RJAZZNNNtlkE0AiMW9nSMwTQN7OkJi3MxRAm2yyySabFEBYCtT6lQIVQBWo9SsFahVA0UUXXXTRFUCO4ziO4zgWQEuBWr9SoBZACB988MEHF0DEvJ0hMW8XQIFav1Kg1hdAPvjggw8+GED7lQK1fqUYQLczJObtDBlAdNFFF110GUAxb2dIzNsZQO4MiXk7QxpAq6qqqqqqGkBnSMzbGRIbQCTm7QyJeRtA4YMPPvjgG0CeITFvZ0gcQFq/UqDWrxxAF1100UUXHUDU+pUCtX4dQJGYtzMk5h1ATTbZZJNNHkAK1PqVArUeQMdxHMdxHB9AhA8++OCDH0BArV8pUOsfQH+lQK1fKSBAXXTRRRddIEA7Q2LezpAgQBoS83aGxCBA+OCDDz74IEDXrxSo9SshQLV+pUCtXyFAk0022WSTIUByHMdxHMchQFDrVwrU+iFALrrooosuIkANiXk7Q2IiQOtXCtT6lSJAyiabbLLJIkCo9SsFav0iQIbEvJ0hMSNAZZNNNtlkI0BDYt7OkJgjQCIxb2dIzCNAAAAAAAAAJEA=",
        "encoding": "base64",
        "path": [
         "x",
         "value"
        ]
       },
       {
        "data": "KHSKVnko5D9sUkQUnIzhPzRf0WPkhd0/7giRWYSl1z+gXf4XbofRP8MlrXUxd8Y/aL3/A8tJsz+rOmFWjTSavz24NmF8KcC/ZkEbQTnizL/sOAp/yqfUvyLDTIKQqNq/+XltB+Ix4L9O5x0NOOXiv7dW6xk+Z+W/v48Np2ix57/djfjzvb3pvy4HpZ7lhuu/knu2ljYI7b9N9hZHwz3uvyS+StZjJO+/iBi7Yr657787/XklTfzvvzZqe2ti6++/E6LlWiqH779AS9l/qtDuvxYh3iG/ye2/EpLpaBZ17L8wKKteKdbqvy4HYN4y8ei/NpnUiiTL5r9BkmPnmWnkvwxVnrXJ0uG/gIyfe+sa3r9w3VdZskHYv8ZlY2grKdK/36z6g37Cx78kXXvASOm1v2uCtznTXI8/l6+KZUK2vT8b+STyr5nLP0Lbj3obCNQ//Oct3RcP2j9nePVOEtLfP6UK1rwAoeI/3VZVYFoo5T+mZI2kfHjnPzqM+jVei+k/Y0bum5Vb6z8pBU5YZ+TsP08gR0HSIe4/to289JkQ7z8kLShKT67vPymr5axW+e8/UMBSTuzw7z/2ltEkJpXvP4K7d7Lz5u4/ACz/kxvo7T+Ix1jeNpvsP7Bn+FaqA+s/6GeMmJ0l6T8bqj078AXnP+whxBwtquQ/uhCB6XsY4j+xOb0YIq/ePw3ZwF443dg/mQQf9WrK0j9+CswIJw3JP3nGecAuiLg/rR+PLWWfdL8lQQtHvhi7v08GDYFnUMq/o+bCveFn078pSIHC6nTZv1V9OzOEP9+/tS8La0hc4r9uNFAi5Ojkv+/kERnuPue/cmaikk1Y6b+SZCYliC/rv1vkigXQv+y/39T7kBAF7r9bcCPz+Pvuv4WVZ80Eou+/lNuPyIL1779Orq//mPXvv6gIzThHou+/ycJ35Wb87r/h6E/rqAXuv6ATRDqRwOy/xCYMPHAw679RNgIuWlnpv1X563scQOe/yvB8NzHq5L+8pEbNsF3iv5J5yDiEQt+/+n7KNBJ42b/Z5ophKGvTvwAAAAAAAAAAAAAAAAAAAAA=",
        "encoding": "base64",
        "path": [
         "y",
         "value"
        ]
       }
      ],
      "model_module": "bqplot",
      "model_module_version": "^0.5.15",
      "model_name": "LinesModel",
      "state": {
       "_model_module_version": "^0.5.15",
       "_view_module_version": "^0.5.15",
       "fill_colors": [],
       "labels": [
        "C1"
       ],
       "scales": {
        "x": "IPY_MODEL_abe9a33f24ba4daa85f4a2f22280e1df",
        "y": "IPY_MODEL_2db2db21ee2e43198769436c3fcd2a3b"
       },
       "x": {
        "dtype": "float64",
        "shape": [
         100
        ],
        "type": null
       },
       "y": {
        "dtype": "float64",
        "shape": [
         100
        ],
        "type": null
       }
      }
     },
     "01b38b4ff2ac4b8f94d529bd040c96b8": {
      "model_module": "@jupyter-widgets/base",
      "model_module_version": "1.2.0",
      "model_name": "LayoutModel",
      "state": {}
     },
     "07a976a77f2a434fb82480c457bd4740": {
      "model_module": "bqplot",
      "model_module_version": "^0.5.15",
      "model_name": "AxisModel",
      "state": {
       "_model_module_version": "^0.5.15",
       "_view_module_version": "^0.5.15",
       "orientation": "vertical",
       "scale": "IPY_MODEL_e9cf1e20cfb4445d88a0ba243aa7710a",
       "side": "left",
       "tick_values": null
      }
     },
     "1e6649fc82184d5f9eeee27501fde52d": {
      "buffers": [
       {
        "data": "AAAAAAAAAAAxb2dIzNu5PzFvZ0jM28k/ZZNNNtlk0z8xb2dIzNvZP3+lQK1fKeA/ZZNNNtlk4z9LgVq/UqDmPzFvZ0jM2+k/F1100UUX7T9/pUCtXynwP3Icx3Ecx/E/ZZNNNtlk8z9YCtT6lQL1P0uBWr9SoPY/Pvjggw8++D8xb2dIzNv5PyTm7QyJefs/F1100UUX/T8K1PqVArX+P3+lQK1fKQBA+OCDDz74AEByHMdxHMcBQOtXCtT6lQJAZZNNNtlkA0DezpCYtzMEQFgK1PqVAgVA0UUXXXTRBUBLgVq/UqAGQMS8nSExbwdAPvjggw8+CEC3MyTm7QwJQDFvZ0jM2wlAq6qqqqqqCkAk5u0MiXkLQJ4hMW9nSAxAF1100UUXDUCRmLczJOYNQArU+pUCtQ5AhA8++OCDD0B/pUCtXykQQDtDYt7OkBBA+OCDDz74EEC1fqVArV8RQHIcx3EcxxFALrrooosuEkDrVwrU+pUSQKj1KwVq/RJAZZNNNtlkE0AiMW9nSMwTQN7OkJi3MxRAm2yyySabFEBYCtT6lQIVQBWo9SsFahVA0UUXXXTRFUCO4ziO4zgWQEuBWr9SoBZACB988MEHF0DEvJ0hMW8XQIFav1Kg1hdAPvjggw8+GED7lQK1fqUYQLczJObtDBlAdNFFF110GUAxb2dIzNsZQO4MiXk7QxpAq6qqqqqqGkBnSMzbGRIbQCTm7QyJeRtA4YMPPvjgG0CeITFvZ0gcQFq/UqDWrxxAF1100UUXHUDU+pUCtX4dQJGYtzMk5h1ATTbZZJNNHkAK1PqVArUeQMdxHMdxHB9AhA8++OCDH0BArV8pUOsfQH+lQK1fKSBAXXTRRRddIEA7Q2LezpAgQBoS83aGxCBA+OCDDz74IEDXrxSo9SshQLV+pUCtXyFAk0022WSTIUByHMdxHMchQFDrVwrU+iFALrrooosuIkANiXk7Q2IiQOtXCtT6lSJAyiabbLLJIkCo9SsFav0iQIbEvJ0hMSNAZZNNNtlkI0BDYt7OkJgjQCIxb2dIzCNAAAAAAAAAJEA=",
        "encoding": "base64",
        "path": [
         "x",
         "value"
        ]
       },
       {
        "data": "j/00JVLJ1D9MDGJuQSfNP6OhUkfJb8A/qRl3kV5rnD+EmhEDbryyvzpkaBJnMca/8S5vBlZl0b/kQztikoTXvxvyUYFuZt2/uGnIOsh94b+ISxJHsxrkv/IukK4mg+a/bpKjp9mw6L/Q1pG8HJ7qv3xB6qHoRey/1iUNVuuj7b9Fp5Rnk7Tuv5M/MkUZde+/g7mzfobj779hQEHkuv7vvyF+dnZvxu+/ifyrHzc777/XO400fV7uv88c5L+BMu2/kTREo1O667+CXumbyPnpv/ufnUBz9ee/qNXEEpey5b8N27LBGjfjv3bRJcR4ieC/jRor4Fxh27+uYu95U2jVv15lTYDXbs6/GTv51Zu9wb8mQo2tTnijvx1ak+lQHLA/hiUP2V7lxD9fb3pWBsPQPwyU2rae59Y/PfC+dXDQ3D+OqLS9BzfhP0Xc6/fp2OM/DRIWPQBH5j/ExwwO83roPxYP4aUCb+o/ytXR+hUe7D+KZiEMyIPtP4S6EVpznO4/j2UZajtl7z+2M3s+FNzvP+Csw63H/+8/Aq07jPjP7z9Ymg+fI03vP2mnsFaeeO4/O+vBU5NU7T8xzKa//OPrPxU4dIecKuo/NZ+LjfIs6D8sOHfrMPDlP/zYrGIueuM/Jn2aH1fR4D8CBoLtN/nbP9mnNo/ABtY/Z6pe0pq1zz9+N9OJ8wrDP0VP3j1nuqg/01UZfoj3qr///yHrxZjDvyOXBpNCINC/iOmzbQxK1r/BUhLgqjncv3pAygnQ7+C/n7dDN5eW478s3CCGPwrmv+fwne1iROi/88VngTE/6r+yYLqcgPXrv1qyKF7YYu2/QA3dUH+D7r/2j+MkhFTvvxGwIF3F0++/5TPp3vb/779cX7hUpdjvv2RrLls3Xu+/YMJFdeyR7r/14HnK2XXtv67/X7fkDOy/o7/gPrta6r8yJcxvymPov0bE19cyLea/BzEsIru8479gS20EwRjhvyC/KENRkNy/15TvG5Wk1r/QxN5GwX3Qvwved17HV8S/ccDrj9T7rb+hkNZptLWlPwAAAAAAAAAAAAAAAAAAAAA=",
        "encoding": "base64",
        "path": [
         "y",
         "value"
        ]
       }
      ],
      "model_module": "bqplot",
      "model_module_version": "^0.5.15",
      "model_name": "LinesModel",
      "state": {
       "_model_module_version": "^0.5.15",
       "_view_module_version": "^0.5.15",
       "fill_colors": [],
       "labels": [
        "C1"
       ],
       "scales": {
        "x": "IPY_MODEL_2b1dc73e00424cb996db0d05694a124f",
        "y": "IPY_MODEL_2198a9e6c6fe48ad8a8a16244ac00b73"
       },
       "x": {
        "dtype": "float64",
        "shape": [
         100
        ],
        "type": null
       },
       "y": {
        "dtype": "float64",
        "shape": [
         100
        ],
        "type": null
       }
      }
     },
     "1e82aa3c82b84fcba261109f955c37b6": {
      "model_module": "bqplot",
      "model_module_version": "^0.5.15",
      "model_name": "AxisModel",
      "state": {
       "_model_module_version": "^0.5.15",
       "_view_module_version": "^0.5.15",
       "scale": "IPY_MODEL_abe9a33f24ba4daa85f4a2f22280e1df",
       "side": "bottom",
       "tick_values": null
      }
     },
     "2198a9e6c6fe48ad8a8a16244ac00b73": {
      "model_module": "bqplot",
      "model_module_version": "^0.5.15",
      "model_name": "LinearScaleModel",
      "state": {
       "_model_module_version": "^0.5.15",
       "_view_module_version": "^0.5.15",
       "stabilized": false
      }
     },
     "2576b25e6d7b431f90860d03debbd9ff": {
      "model_module": "bqplot",
      "model_module_version": "^0.5.15",
      "model_name": "FigureModel",
      "state": {
       "_model_module_version": "^0.5.15",
       "_view_module_version": "^0.5.15",
       "axes": [
        "IPY_MODEL_3a384794383242c983bf74af7a4c2b66",
        "IPY_MODEL_ce0dfc5775f245beb9dff3753545c5f8"
       ],
       "layout": "IPY_MODEL_8290ffa6c49c4391a4764b1000209a45",
       "marks": [
        "IPY_MODEL_496f259995e140acb15a8e552352da25"
       ],
       "scale_x": "IPY_MODEL_df0f6d0115a746b392a5ebb5c098df29",
       "scale_y": "IPY_MODEL_f1f62d7bfcf44914bc66e57fbdf4cdba"
      }
     },
     "2b1dc73e00424cb996db0d05694a124f": {
      "model_module": "bqplot",
      "model_module_version": "^0.5.15",
      "model_name": "LinearScaleModel",
      "state": {
       "_model_module_version": "^0.5.15",
       "_view_module_version": "^0.5.15",
       "stabilized": false
      }
     },
     "2db2db21ee2e43198769436c3fcd2a3b": {
      "model_module": "bqplot",
      "model_module_version": "^0.5.15",
      "model_name": "LinearScaleModel",
      "state": {
       "_model_module_version": "^0.5.15",
       "_view_module_version": "^0.5.15",
       "stabilized": false
      }
     },
     "34b3d97617fa4bf59bbf34c5df129c57": {
      "model_module": "bqplot",
      "model_module_version": "^0.5.15",
      "model_name": "AxisModel",
      "state": {
       "_model_module_version": "^0.5.15",
       "_view_module_version": "^0.5.15",
       "orientation": "vertical",
       "scale": "IPY_MODEL_2db2db21ee2e43198769436c3fcd2a3b",
       "side": "left",
       "tick_values": null
      }
     },
     "3a384794383242c983bf74af7a4c2b66": {
      "model_module": "bqplot",
      "model_module_version": "^0.5.15",
      "model_name": "AxisModel",
      "state": {
       "_model_module_version": "^0.5.15",
       "_view_module_version": "^0.5.15",
       "scale": "IPY_MODEL_f88f8f104b2c4c8d867244c7f336437a",
       "side": "bottom",
       "tick_values": null
      }
     },
     "40db0e7e9b5d4dd9b90758e25bee573f": {
      "model_module": "bqplot",
      "model_module_version": "^0.5.15",
      "model_name": "FigureModel",
      "state": {
       "_model_module_version": "^0.5.15",
       "_view_module_version": "^0.5.15",
       "axes": [
        "IPY_MODEL_d884016bf7be49a998ba4979106a135f",
        "IPY_MODEL_07a976a77f2a434fb82480c457bd4740"
       ],
       "layout": "IPY_MODEL_5de3c4d3374f4a61b2ac38509ccca866",
       "marks": [
        "IPY_MODEL_4918c66998164759b6cf1f600530f798"
       ],
       "scale_x": "IPY_MODEL_9811259b90b5406cb2e450b4fc2ffa66",
       "scale_y": "IPY_MODEL_6a3f076ec68f43c79eabc8e59f7d1139"
      }
     },
     "48beb74217c04938867a535503eb3ecc": {
      "model_module": "bqplot",
      "model_module_version": "^0.5.15",
      "model_name": "LinearScaleModel",
      "state": {
       "_model_module_version": "^0.5.15",
       "_view_module_version": "^0.5.15",
       "stabilized": false
      }
     },
     "4918c66998164759b6cf1f600530f798": {
      "buffers": [
       {
        "data": "AAAAAAAAAAAxb2dIzNu5PzFvZ0jM28k/ZZNNNtlk0z8xb2dIzNvZP3+lQK1fKeA/ZZNNNtlk4z9LgVq/UqDmPzFvZ0jM2+k/F1100UUX7T9/pUCtXynwP3Icx3Ecx/E/ZZNNNtlk8z9YCtT6lQL1P0uBWr9SoPY/Pvjggw8++D8xb2dIzNv5PyTm7QyJefs/F1100UUX/T8K1PqVArX+P3+lQK1fKQBA+OCDDz74AEByHMdxHMcBQOtXCtT6lQJAZZNNNtlkA0DezpCYtzMEQFgK1PqVAgVA0UUXXXTRBUBLgVq/UqAGQMS8nSExbwdAPvjggw8+CEC3MyTm7QwJQDFvZ0jM2wlAq6qqqqqqCkAk5u0MiXkLQJ4hMW9nSAxAF1100UUXDUCRmLczJOYNQArU+pUCtQ5AhA8++OCDD0B/pUCtXykQQDtDYt7OkBBA+OCDDz74EEC1fqVArV8RQHIcx3EcxxFALrrooosuEkDrVwrU+pUSQKj1KwVq/RJAZZNNNtlkE0AiMW9nSMwTQN7OkJi3MxRAm2yyySabFEBYCtT6lQIVQBWo9SsFahVA0UUXXXTRFUCO4ziO4zgWQEuBWr9SoBZACB988MEHF0DEvJ0hMW8XQIFav1Kg1hdAPvjggw8+GED7lQK1fqUYQLczJObtDBlAdNFFF110GUAxb2dIzNsZQO4MiXk7QxpAq6qqqqqqGkBnSMzbGRIbQCTm7QyJeRtA4YMPPvjgG0CeITFvZ0gcQFq/UqDWrxxAF1100UUXHUDU+pUCtX4dQJGYtzMk5h1ATTbZZJNNHkAK1PqVArUeQMdxHMdxHB9AhA8++OCDH0BArV8pUOsfQH+lQK1fKSBAXXTRRRddIEA7Q2LezpAgQBoS83aGxCBA+OCDDz74IEDXrxSo9SshQLV+pUCtXyFAk0022WSTIUByHMdxHMchQFDrVwrU+iFALrrooosuIkANiXk7Q2IiQOtXCtT6lSJAyiabbLLJIkCo9SsFav0iQIbEvJ0hMSNAZZNNNtlkI0BDYt7OkJgjQCIxb2dIzCNAAAAAAAAAJEA=",
        "encoding": "base64",
        "path": [
         "x",
         "value"
        ]
       },
       {
        "data": "AAAAAAAAAAAAAAAAAAAAAAAAAAAAAAAAAAAAAAAAAAAAAAAAAAAAAAAAAAAAAAAAAAAAAAAAAAAAAAAAAAAAAAAAAAAAAAAAAAAAAAAAAAAAAAAAAAAAAAAAAAAAAAAAAAAAAAAAAAAAAAAAAAAAAAAAAAAAAAAAAAAAAAAAAAAAAAAAAAAAAAAAAAAAAAAAAAAAAAAAAAAAAAAAAAAAAAAAAAAAAAAAAAAAAAAAAAAAAAAAAAAAAAAAAAAAAAAAAAAAAAAAAAAAAAAAAAAAAAAAAAAAAAAAAAAAAAAAAAAAAAAAAAAAAAAAAAAAAAAAAAAAAAAAAAAAAAAAAAAAAAAAAAAAAAAAAAAAAAAAAAAAAAAAAAAAAAAAAAAAAAAAAAAAAAAAAAAAAAAAAAAAAAAAAAAAAAAAAAAAAAAAAAAAAAAAAAAAAAAAAAAAAAAAAAAAAAAAAAAAAAAAAAAAAAAAAAAAAAAAAAAAAAAAAAAAAAAAAAAAAAAAAAAAAAAAAAAAAAAAAAAAAAAAAAAAAAAAAAAAAAAAAAAAAAAAAAAAAAAAAAAAAAAAAAAAAAAAAAAAAAAAAAAAAAAAAAAAAAAAAAAAAAAAAAAAAAAAAAAAAAAAAAAAAAAAAAAAAAAAAAAAAAAAAAAAAAAAAAAAAAAAAAAAAAAAAAAAAAAAAAAAAAAAAAAAAAAAAAAAAAAAAAAAAAAAAAAAAAAAAAAAAAAAAAAAAAAAAAAAAAAAAAAAAAAAAAAAAAAAAAAAAAAAAAAAAAAAAAAAAAAAAAAAAAAAAAAAAAAAAAAAAAAAAAAAAAAAAAAAAAAAAAAAAAAAAAAAAAAAAAAAAAAAAAAAAAAAAAAAAAAAAAAAAAAAAAAAAAAAAAAAAAAAAAAAAAAAAAAAAAAAAAAAAAAAAAAAAAAAAAAAAAAAAAAAAAAAAAAAAAAAAAAAAAAAAAAAAAAAAAAAAAAAAAAAAAAAAAAAAAAAAAAAAAAAAAAAAAAAAAAAAAAAAAAAAAAAAAAAAAAAAAAAAAAAAAAAAAAAAAAAAAAAAAAAAAAAAAAAAAAAAAA=",
        "encoding": "base64",
        "path": [
         "y",
         "value"
        ]
       }
      ],
      "model_module": "bqplot",
      "model_module_version": "^0.5.15",
      "model_name": "LinesModel",
      "state": {
       "_model_module_version": "^0.5.15",
       "_view_module_version": "^0.5.15",
       "fill_colors": [],
       "labels": [
        "C1"
       ],
       "scales": {
        "x": "IPY_MODEL_d3fe0ff469a348b6a7e626ba3312443c",
        "y": "IPY_MODEL_e9cf1e20cfb4445d88a0ba243aa7710a"
       },
       "x": {
        "dtype": "float64",
        "shape": [
         100
        ],
        "type": null
       },
       "y": {
        "dtype": "float64",
        "shape": [
         100
        ],
        "type": null
       }
      }
     },
     "496f259995e140acb15a8e552352da25": {
      "buffers": [
       {
        "data": "AAAAAAAAAAAxb2dIzNu5PzFvZ0jM28k/ZZNNNtlk0z8xb2dIzNvZP3+lQK1fKeA/ZZNNNtlk4z9LgVq/UqDmPzFvZ0jM2+k/F1100UUX7T9/pUCtXynwP3Icx3Ecx/E/ZZNNNtlk8z9YCtT6lQL1P0uBWr9SoPY/Pvjggw8++D8xb2dIzNv5PyTm7QyJefs/F1100UUX/T8K1PqVArX+P3+lQK1fKQBA+OCDDz74AEByHMdxHMcBQOtXCtT6lQJAZZNNNtlkA0DezpCYtzMEQFgK1PqVAgVA0UUXXXTRBUBLgVq/UqAGQMS8nSExbwdAPvjggw8+CEC3MyTm7QwJQDFvZ0jM2wlAq6qqqqqqCkAk5u0MiXkLQJ4hMW9nSAxAF1100UUXDUCRmLczJOYNQArU+pUCtQ5AhA8++OCDD0B/pUCtXykQQDtDYt7OkBBA+OCDDz74EEC1fqVArV8RQHIcx3EcxxFALrrooosuEkDrVwrU+pUSQKj1KwVq/RJAZZNNNtlkE0AiMW9nSMwTQN7OkJi3MxRAm2yyySabFEBYCtT6lQIVQBWo9SsFahVA0UUXXXTRFUCO4ziO4zgWQEuBWr9SoBZACB988MEHF0DEvJ0hMW8XQIFav1Kg1hdAPvjggw8+GED7lQK1fqUYQLczJObtDBlAdNFFF110GUAxb2dIzNsZQO4MiXk7QxpAq6qqqqqqGkBnSMzbGRIbQCTm7QyJeRtA4YMPPvjgG0CeITFvZ0gcQFq/UqDWrxxAF1100UUXHUDU+pUCtX4dQJGYtzMk5h1ATTbZZJNNHkAK1PqVArUeQMdxHMdxHB9AhA8++OCDH0BArV8pUOsfQH+lQK1fKSBAXXTRRRddIEA7Q2LezpAgQBoS83aGxCBA+OCDDz74IEDXrxSo9SshQLV+pUCtXyFAk0022WSTIUByHMdxHMchQFDrVwrU+iFALrrooosuIkANiXk7Q2IiQOtXCtT6lSJAyiabbLLJIkCo9SsFav0iQIbEvJ0hMSNAZZNNNtlkI0BDYt7OkJgjQCIxb2dIzCNAAAAAAAAAJEA=",
        "encoding": "base64",
        "path": [
         "x",
         "value"
        ]
       },
       {
        "data": "j/00JVLJ1D9MDGJuQSfNP6OhUkfJb8A/qRl3kV5rnD+EmhEDbryyvzpkaBJnMca/8S5vBlZl0b/kQztikoTXvxvyUYFuZt2/uGnIOsh94b+ISxJHsxrkv/IukK4mg+a/bpKjp9mw6L/Q1pG8HJ7qv3xB6qHoRey/1iUNVuuj7b9Fp5Rnk7Tuv5M/MkUZde+/g7mzfobj779hQEHkuv7vvyF+dnZvxu+/ifyrHzc777/XO400fV7uv88c5L+BMu2/kTREo1O667+CXumbyPnpv/ufnUBz9ee/qNXEEpey5b8N27LBGjfjv3bRJcR4ieC/jRor4Fxh27+uYu95U2jVv15lTYDXbs6/GTv51Zu9wb8mQo2tTnijvx1ak+lQHLA/hiUP2V7lxD9fb3pWBsPQPwyU2rae59Y/PfC+dXDQ3D+OqLS9BzfhP0Xc6/fp2OM/DRIWPQBH5j/ExwwO83roPxYP4aUCb+o/ytXR+hUe7D+KZiEMyIPtP4S6EVpznO4/j2UZajtl7z+2M3s+FNzvP+Csw63H/+8/Aq07jPjP7z9Ymg+fI03vP2mnsFaeeO4/O+vBU5NU7T8xzKa//OPrPxU4dIecKuo/NZ+LjfIs6D8sOHfrMPDlP/zYrGIueuM/Jn2aH1fR4D8CBoLtN/nbP9mnNo/ABtY/Z6pe0pq1zz9+N9OJ8wrDP0VP3j1nuqg/01UZfoj3qr///yHrxZjDvyOXBpNCINC/iOmzbQxK1r/BUhLgqjncv3pAygnQ7+C/n7dDN5eW478s3CCGPwrmv+fwne1iROi/88VngTE/6r+yYLqcgPXrv1qyKF7YYu2/QA3dUH+D7r/2j+MkhFTvvxGwIF3F0++/5TPp3vb/779cX7hUpdjvv2RrLls3Xu+/YMJFdeyR7r/14HnK2XXtv67/X7fkDOy/o7/gPrta6r8yJcxvymPov0bE19cyLea/BzEsIru8479gS20EwRjhvyC/KENRkNy/15TvG5Wk1r/QxN5GwX3Qvwved17HV8S/ccDrj9T7rb+hkNZptLWlPwAAAAAAAAAAAAAAAAAAAAA=",
        "encoding": "base64",
        "path": [
         "y",
         "value"
        ]
       }
      ],
      "model_module": "bqplot",
      "model_module_version": "^0.5.15",
      "model_name": "LinesModel",
      "state": {
       "_model_module_version": "^0.5.15",
       "_view_module_version": "^0.5.15",
       "fill_colors": [],
       "labels": [
        "C1"
       ],
       "scales": {
        "x": "IPY_MODEL_f88f8f104b2c4c8d867244c7f336437a",
        "y": "IPY_MODEL_48beb74217c04938867a535503eb3ecc"
       },
       "x": {
        "dtype": "float64",
        "shape": [
         100
        ],
        "type": null
       },
       "y": {
        "dtype": "float64",
        "shape": [
         100
        ],
        "type": null
       }
      }
     },
     "51ff9c072ad549258b21565287fab0f6": {
      "model_module": "bqplot",
      "model_module_version": "^0.5.15",
      "model_name": "LinearScaleModel",
      "state": {
       "_model_module_version": "^0.5.15",
       "_view_module_version": "^0.5.15",
       "allow_padding": false,
       "max": 1,
       "min": 0,
       "stabilized": false
      }
     },
     "5bab7d7762614961a56d5c3da4dad4cf": {
      "model_module": "bqplot",
      "model_module_version": "^0.5.15",
      "model_name": "LinearScaleModel",
      "state": {
       "_model_module_version": "^0.5.15",
       "_view_module_version": "^0.5.15",
       "allow_padding": false,
       "max": 1,
       "min": 0,
       "stabilized": false
      }
     },
     "5de3c4d3374f4a61b2ac38509ccca866": {
      "model_module": "@jupyter-widgets/base",
      "model_module_version": "1.2.0",
      "model_name": "LayoutModel",
      "state": {}
     },
     "6a3f076ec68f43c79eabc8e59f7d1139": {
      "model_module": "bqplot",
      "model_module_version": "^0.5.15",
      "model_name": "LinearScaleModel",
      "state": {
       "_model_module_version": "^0.5.15",
       "_view_module_version": "^0.5.15",
       "allow_padding": false,
       "max": 1,
       "min": 0,
       "stabilized": false
      }
     },
     "7dfd11ca936c4ea9b76ccd01857931b1": {
      "model_module": "bqplot",
      "model_module_version": "^0.5.15",
      "model_name": "FigureModel",
      "state": {
       "_model_module_version": "^0.5.15",
       "_view_module_version": "^0.5.15",
       "axes": [
        "IPY_MODEL_ec9a939cdf264e078e1de1bab8f0af38",
        "IPY_MODEL_9b70bb81e174411794c738f6e93b90f4"
       ],
       "layout": "IPY_MODEL_01b38b4ff2ac4b8f94d529bd040c96b8",
       "marks": [
        "IPY_MODEL_1e6649fc82184d5f9eeee27501fde52d"
       ],
       "scale_x": "IPY_MODEL_f80f2c1edaa24f1d9cddf85f05865f75",
       "scale_y": "IPY_MODEL_b2172f9de91248358032f7c7483ee1b6"
      }
     },
     "8290ffa6c49c4391a4764b1000209a45": {
      "model_module": "@jupyter-widgets/base",
      "model_module_version": "1.2.0",
      "model_name": "LayoutModel",
      "state": {}
     },
     "84ff0485c7614df0ae52bc804be298df": {
      "model_module": "@jupyter-widgets/base",
      "model_module_version": "1.2.0",
      "model_name": "LayoutModel",
      "state": {}
     },
     "9811259b90b5406cb2e450b4fc2ffa66": {
      "model_module": "bqplot",
      "model_module_version": "^0.5.15",
      "model_name": "LinearScaleModel",
      "state": {
       "_model_module_version": "^0.5.15",
       "_view_module_version": "^0.5.15",
       "allow_padding": false,
       "max": 1,
       "min": 0,
       "stabilized": false
      }
     },
     "9b70bb81e174411794c738f6e93b90f4": {
      "model_module": "bqplot",
      "model_module_version": "^0.5.15",
      "model_name": "AxisModel",
      "state": {
       "_model_module_version": "^0.5.15",
       "_view_module_version": "^0.5.15",
       "orientation": "vertical",
       "scale": "IPY_MODEL_2198a9e6c6fe48ad8a8a16244ac00b73",
       "side": "left",
       "tick_values": null
      }
     },
     "abe9a33f24ba4daa85f4a2f22280e1df": {
      "model_module": "bqplot",
      "model_module_version": "^0.5.15",
      "model_name": "LinearScaleModel",
      "state": {
       "_model_module_version": "^0.5.15",
       "_view_module_version": "^0.5.15",
       "stabilized": false
      }
     },
     "b2172f9de91248358032f7c7483ee1b6": {
      "model_module": "bqplot",
      "model_module_version": "^0.5.15",
      "model_name": "LinearScaleModel",
      "state": {
       "_model_module_version": "^0.5.15",
       "_view_module_version": "^0.5.15",
       "allow_padding": false,
       "max": 1,
       "min": 0,
       "stabilized": false
      }
     },
     "cb37f33f12b64db8b35116abaa87e4bb": {
      "model_module": "bqplot",
      "model_module_version": "^0.5.15",
      "model_name": "FigureModel",
      "state": {
       "_model_module_version": "^0.5.15",
       "_view_module_version": "^0.5.15",
       "axes": [
        "IPY_MODEL_1e82aa3c82b84fcba261109f955c37b6",
        "IPY_MODEL_34b3d97617fa4bf59bbf34c5df129c57"
       ],
       "layout": "IPY_MODEL_84ff0485c7614df0ae52bc804be298df",
       "marks": [
        "IPY_MODEL_0043e2b768ce4ab7ac0d2ab248b21ff6"
       ],
       "scale_x": "IPY_MODEL_51ff9c072ad549258b21565287fab0f6",
       "scale_y": "IPY_MODEL_5bab7d7762614961a56d5c3da4dad4cf"
      }
     },
     "ce0dfc5775f245beb9dff3753545c5f8": {
      "model_module": "bqplot",
      "model_module_version": "^0.5.15",
      "model_name": "AxisModel",
      "state": {
       "_model_module_version": "^0.5.15",
       "_view_module_version": "^0.5.15",
       "orientation": "vertical",
       "scale": "IPY_MODEL_48beb74217c04938867a535503eb3ecc",
       "side": "left",
       "tick_values": null
      }
     },
     "d3fe0ff469a348b6a7e626ba3312443c": {
      "model_module": "bqplot",
      "model_module_version": "^0.5.15",
      "model_name": "LinearScaleModel",
      "state": {
       "_model_module_version": "^0.5.15",
       "_view_module_version": "^0.5.15",
       "stabilized": false
      }
     },
     "d884016bf7be49a998ba4979106a135f": {
      "model_module": "bqplot",
      "model_module_version": "^0.5.15",
      "model_name": "AxisModel",
      "state": {
       "_model_module_version": "^0.5.15",
       "_view_module_version": "^0.5.15",
       "scale": "IPY_MODEL_d3fe0ff469a348b6a7e626ba3312443c",
       "side": "bottom",
       "tick_values": null
      }
     },
     "df0f6d0115a746b392a5ebb5c098df29": {
      "model_module": "bqplot",
      "model_module_version": "^0.5.15",
      "model_name": "LinearScaleModel",
      "state": {
       "_model_module_version": "^0.5.15",
       "_view_module_version": "^0.5.15",
       "allow_padding": false,
       "max": 1,
       "min": 0,
       "stabilized": false
      }
     },
     "e9cf1e20cfb4445d88a0ba243aa7710a": {
      "model_module": "bqplot",
      "model_module_version": "^0.5.15",
      "model_name": "LinearScaleModel",
      "state": {
       "_model_module_version": "^0.5.15",
       "_view_module_version": "^0.5.15",
       "stabilized": false
      }
     },
     "ec9a939cdf264e078e1de1bab8f0af38": {
      "model_module": "bqplot",
      "model_module_version": "^0.5.15",
      "model_name": "AxisModel",
      "state": {
       "_model_module_version": "^0.5.15",
       "_view_module_version": "^0.5.15",
       "scale": "IPY_MODEL_2b1dc73e00424cb996db0d05694a124f",
       "side": "bottom",
       "tick_values": null
      }
     },
     "f1f62d7bfcf44914bc66e57fbdf4cdba": {
      "model_module": "bqplot",
      "model_module_version": "^0.5.15",
      "model_name": "LinearScaleModel",
      "state": {
       "_model_module_version": "^0.5.15",
       "_view_module_version": "^0.5.15",
       "allow_padding": false,
       "max": 1,
       "min": 0,
       "stabilized": false
      }
     },
     "f80f2c1edaa24f1d9cddf85f05865f75": {
      "model_module": "bqplot",
      "model_module_version": "^0.5.15",
      "model_name": "LinearScaleModel",
      "state": {
       "_model_module_version": "^0.5.15",
       "_view_module_version": "^0.5.15",
       "allow_padding": false,
       "max": 1,
       "min": 0,
       "stabilized": false
      }
     },
     "f88f8f104b2c4c8d867244c7f336437a": {
      "model_module": "bqplot",
      "model_module_version": "^0.5.15",
      "model_name": "LinearScaleModel",
      "state": {
       "_model_module_version": "^0.5.15",
       "_view_module_version": "^0.5.15",
       "stabilized": false
      }
     }
    },
    "version_major": 2,
    "version_minor": 0
   }
  }
 },
 "nbformat": 4,
 "nbformat_minor": 4
}
